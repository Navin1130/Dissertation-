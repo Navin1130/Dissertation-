{
  "nbformat": 4,
  "nbformat_minor": 0,
  "metadata": {
    "colab": {
      "provenance": [],
      "include_colab_link": true
    },
    "kernelspec": {
      "name": "python3",
      "display_name": "Python 3"
    },
    "language_info": {
      "name": "python"
    }
  },
  "cells": [
    {
      "cell_type": "markdown",
      "metadata": {
        "id": "view-in-github",
        "colab_type": "text"
      },
      "source": [
        "<a href=\"https://colab.research.google.com/github/Navin1130/Dissertation-/blob/main/Run_Dissertation.ipynb\" target=\"_parent\"><img src=\"https://colab.research.google.com/assets/colab-badge.svg\" alt=\"Open In Colab\"/></a>"
      ]
    },
    {
      "cell_type": "code",
      "source": [
        "# Install libraries\n",
        "!pip install xgboost shap lime scikit-learn pandas matplotlib seaborn"
      ],
      "metadata": {
        "id": "GQn5adPJFXF5"
      },
      "execution_count": null,
      "outputs": []
    },
    {
      "cell_type": "code",
      "execution_count": null,
      "metadata": {
        "id": "8M8HT6VABSeO"
      },
      "outputs": [],
      "source": [
        "from google.colab import drive\n",
        "drive.mount('/content/drive')"
      ]
    },
    {
      "cell_type": "code",
      "source": [
        "import pandas as pd\n",
        "import seaborn as sns\n",
        "import matplotlib.pyplot as plt\n",
        "from sklearn.preprocessing import LabelEncoder\n",
        "from sklearn.model_selection import train_test_split\n",
        "from sklearn.utils import resample"
      ],
      "metadata": {
        "id": "9DXQDnk2FqQS"
      },
      "execution_count": null,
      "outputs": []
    },
    {
      "cell_type": "code",
      "source": [
        "# Load dataset\n",
        "data_path = '/content/drive/MyDrive/bank-full.csv'\n",
        "df = pd.read_csv(data_path, sep=';')\n",
        "df.head()"
      ],
      "metadata": {
        "id": "DfjXCksrFdds"
      },
      "execution_count": null,
      "outputs": []
    },
    {
      "cell_type": "code",
      "source": [
        "df.describe()"
      ],
      "metadata": {
        "id": "wfZCGmn-Fw_8"
      },
      "execution_count": null,
      "outputs": []
    },
    {
      "cell_type": "code",
      "source": [
        "df.isnull().sum()"
      ],
      "metadata": {
        "id": "hJCU2VNsFzkS"
      },
      "execution_count": null,
      "outputs": []
    },
    {
      "cell_type": "code",
      "source": [
        "df.duplicated().sum()"
      ],
      "metadata": {
        "id": "hHMxllUgF2-3"
      },
      "execution_count": null,
      "outputs": []
    },
    {
      "cell_type": "markdown",
      "source": [
        "# **EDA**"
      ],
      "metadata": {
        "id": "NOy-4jAUGDAb"
      }
    },
    {
      "cell_type": "code",
      "source": [
        "# Class distribution\n",
        "sns.countplot(data=df, x='y')\n",
        "plt.title('Target Variable Distribution (Loan Approval)')\n",
        "plt.xlabel('Loan Approved')\n",
        "plt.ylabel('Count')\n",
        "plt.show()\n",
        "\n",
        "# Show class balance\n",
        "print(df['y'].value_counts(normalize=True) * 100)"
      ],
      "metadata": {
        "id": "m51jkrekF6pc"
      },
      "execution_count": null,
      "outputs": []
    },
    {
      "cell_type": "code",
      "source": [
        "# Numeric Feature distribution\n",
        "numerical_cols = df.select_dtypes(include=['int64', 'float64']).columns\n",
        "\n",
        "df[numerical_cols].hist(bins=15, figsize=(12, 8), color='skyblue', edgecolor='black')\n",
        "plt.suptitle('Distributions of Numerical Features')\n",
        "plt.tight_layout()\n",
        "plt.show()\n"
      ],
      "metadata": {
        "id": "OgHLYaNnGUnj"
      },
      "execution_count": null,
      "outputs": []
    },
    {
      "cell_type": "code",
      "source": [
        "categorical_cols = df.select_dtypes(include=['object']).columns\n",
        "\n",
        "for col in categorical_cols:\n",
        "    plt.figure(figsize=(8, 4))\n",
        "    sns.countplot(data=df, x=col, hue='y')\n",
        "    plt.title(f'{col} vs Loan Approval')\n",
        "    plt.xticks(rotation=45)\n",
        "    plt.tight_layout()\n",
        "    plt.show()\n"
      ],
      "metadata": {
        "id": "CfPABFxCGZkP"
      },
      "execution_count": null,
      "outputs": []
    },
    {
      "cell_type": "code",
      "source": [
        "# BoxPlot numeric columns by target class\n",
        "for col in ['age', 'balance', 'duration', 'campaign', 'pdays']:\n",
        "    plt.figure(figsize=(8, 4))\n",
        "    sns.boxplot(x='y', y=col, data=df)\n",
        "    plt.title(f'{col} by Loan Approval Status')\n",
        "    plt.tight_layout()\n",
        "    plt.show()\n"
      ],
      "metadata": {
        "id": "J2ROZj8QLJeD"
      },
      "execution_count": null,
      "outputs": []
    },
    {
      "cell_type": "code",
      "source": [
        "# Bivariate Analysis: Job and Education by Approval Rate\n",
        "cross = pd.crosstab(df['job'], df['y'], normalize='index') * 100\n",
        "cross.plot(kind='bar', stacked=True, colormap='viridis')\n",
        "plt.title('Loan Approval Rate by Job')\n",
        "plt.ylabel('Percentage')\n",
        "plt.xticks(rotation=45)\n",
        "plt.legend(title='Loan Approved')\n",
        "plt.tight_layout()\n",
        "plt.show()\n",
        "\n",
        "cross2 = pd.crosstab(df['education'], df['y'], normalize='index') * 100\n",
        "cross2.plot(kind='bar', stacked=True, colormap='Set2')\n",
        "plt.title('Loan Approval Rate by Education')\n",
        "plt.ylabel('Percentage')\n",
        "plt.xticks(rotation=45)\n",
        "plt.legend(title='Loan Approved')\n",
        "plt.tight_layout()\n",
        "plt.show()\n"
      ],
      "metadata": {
        "id": "57Mg92UnLRYr"
      },
      "execution_count": null,
      "outputs": []
    },
    {
      "cell_type": "code",
      "source": [
        "#  Correlation Matrix (Heatmap)\n",
        "# Encode 'y' for numeric correlation\n",
        "df_corr = df.copy()\n",
        "df_corr['y'] = df_corr['y'].map({'yes': 1, 'no': 0})\n",
        "\n",
        "# Select only numerical columns for correlation calculation\n",
        "numerical_cols = df_corr.select_dtypes(include=['int64', 'float64']).columns\n",
        "\n",
        "plt.figure(figsize=(12, 8))\n",
        "sns.heatmap(df_corr[numerical_cols].corr(), annot=True, fmt=\".2f\", cmap='coolwarm')\n",
        "plt.title('Correlation Matrix')\n",
        "plt.show()"
      ],
      "metadata": {
        "id": "SsKrRMqzLcCQ"
      },
      "execution_count": null,
      "outputs": []
    },
    {
      "cell_type": "markdown",
      "source": [
        "# **Data Preprocessing**"
      ],
      "metadata": {
        "id": "XFELJ-NvMNs0"
      }
    },
    {
      "cell_type": "code",
      "source": [
        "# Encode target\n",
        "df['y'] = df['y'].map({'yes': 1, 'no': 0})\n",
        "\n",
        "# Encode categorical variables\n",
        "categorical_cols = df.select_dtypes(include=['object']).columns\n",
        "df_encoded = pd.get_dummies(df, columns=categorical_cols, drop_first=True)"
      ],
      "metadata": {
        "id": "Jsu9lK_2MRly"
      },
      "execution_count": null,
      "outputs": []
    },
    {
      "cell_type": "code",
      "source": [
        "# Handle imbalance\n",
        "majority = df_encoded[df_encoded.y == 0]\n",
        "minority = df_encoded[df_encoded.y == 1]\n",
        "minority_upsampled = resample(minority, replace=True, n_samples=len(majority), random_state=42)\n",
        "df_balanced = pd.concat([majority, minority_upsampled])\n",
        "\n",
        "# Split\n",
        "X = df_balanced.drop(\"y\", axis=1)\n",
        "y = df_balanced[\"y\"]\n",
        "X_train, X_test, y_train, y_test = train_test_split(X, y, test_size=0.3, random_state=42)\n"
      ],
      "metadata": {
        "id": "Y9VJ7iC2MZjj"
      },
      "execution_count": null,
      "outputs": []
    },
    {
      "cell_type": "markdown",
      "source": [
        "# **XGBoost Model**"
      ],
      "metadata": {
        "id": "sGcf7QmEQrbZ"
      }
    },
    {
      "cell_type": "code",
      "source": [
        "# Implement model\n",
        "\n",
        "from xgboost import XGBClassifier\n",
        "from sklearn.metrics import accuracy_score, classification_report, confusion_matrix\n",
        "\n",
        "# Initialize and train the XGBoost model\n",
        "model = XGBClassifier(use_label_encoder=False, eval_metric='logloss', random_state=42)\n",
        "model.fit(X_train, y_train)\n",
        "\n",
        "# Make predictions\n",
        "y_pred = model.predict(X_test)"
      ],
      "metadata": {
        "id": "xgbD7XqfP25B"
      },
      "execution_count": null,
      "outputs": []
    },
    {
      "cell_type": "code",
      "source": [
        "# Evaluate the model\n",
        "accuracy = accuracy_score(y_test, y_pred)\n",
        "report = classification_report(y_test, y_pred)\n",
        "conf_matrix = confusion_matrix(y_test, y_pred)\n",
        "\n",
        "print(f'Accuracy: {accuracy:.4f}')\n",
        "print('Classification Report:')\n",
        "print(report)\n",
        "print('Confusion Matrix:')\n",
        "conf_matrix"
      ],
      "metadata": {
        "id": "R7xI5WzcP56V"
      },
      "execution_count": null,
      "outputs": []
    },
    {
      "cell_type": "code",
      "source": [
        "# Confusion matrix\n",
        "plt.figure(figsize=(8, 6))\n",
        "sns.heatmap(conf_matrix, annot=True, fmt='d', cmap='Blues', xticklabels=['No (0)', 'Yes (1)'], yticklabels=['No (0)', 'Yes (1)'])\n",
        "plt.xlabel('Predicted Label')\n",
        "plt.ylabel('True Label')\n",
        "plt.title('Confusion Matrix')\n",
        "plt.show()"
      ],
      "metadata": {
        "id": "5tXS8QReQFQF"
      },
      "execution_count": null,
      "outputs": []
    },
    {
      "cell_type": "markdown",
      "source": [
        "#**Random Forest Model**"
      ],
      "metadata": {
        "id": "Q9OuNFhXIhPP"
      }
    },
    {
      "cell_type": "code",
      "source": [
        "# Random Forest Classifier Model\n",
        "\n",
        "from sklearn.ensemble import RandomForestClassifier\n",
        "from sklearn.metrics import accuracy_score, classification_report, confusion_matrix\n",
        "\n",
        "# Initialise and train the Random Forest Model\n",
        "rf_model = RandomForestClassifier(random_state=42)\n",
        "rf_model.fit(X_train, y_train)\n",
        "\n",
        "# Making predictions\n",
        "y_pred_rf = rf_model.predict(X_test)\n",
        "\n",
        "# Evaluating the model\n",
        "accuracy_rf = accuracy_score(y_test, y_pred_rf)\n",
        "report_rf = classification_report(y_test, y_pred_rf)\n",
        "conf_matrix_rf = confusion_matrix(y_test, y_pred_rf)\n",
        "\n",
        "print(f'Random Forest Accuracy: {accuracy_rf:.4f}')\n",
        "print('Random Forest Classification Report:')\n",
        "print(report_rf)\n",
        "print('Random Forest Confusion Matrix:')\n",
        "conf_matrix_rf"
      ],
      "metadata": {
        "id": "bm-CTqA2pHka"
      },
      "execution_count": null,
      "outputs": []
    },
    {
      "cell_type": "code",
      "source": [
        "# Confusion matrix for Random Forest\n",
        "plt.figure(figsize=(8, 6))\n",
        "sns.heatmap(conf_matrix_rf, annot=True, fmt='d', cmap='Blues', xticklabels=['No (0)', 'Yes (1)'], yticklabels=['No (0)', 'Yes (1)'])\n",
        "plt.xlabel('Predicted Label')\n",
        "plt.ylabel('True Label')\n",
        "plt.title('Confusion Matrix')\n",
        "plt.show()"
      ],
      "metadata": {
        "id": "qQbCXOKapqIM"
      },
      "execution_count": null,
      "outputs": []
    },
    {
      "cell_type": "markdown",
      "source": [
        "#**K-Nearest Neighbors Model**"
      ],
      "metadata": {
        "id": "uAE64xICIraL"
      }
    },
    {
      "cell_type": "code",
      "source": [
        "# K-Nearest Neighbors Classifier Model\n",
        "\n",
        "from sklearn.neighbors import KNeighborsClassifier\n",
        "from sklearn.metrics import accuracy_score, classification_report, confusion_matrix\n",
        "\n",
        "# Initialise and train the KNN model\n",
        "knn_model = KNeighborsClassifier()\n",
        "knn_model.fit(X_train, y_train)\n",
        "\n",
        "# Making predictions\n",
        "y_pred_knn = knn_model.predict(X_test)\n",
        "\n",
        "# Evaluating the model\n",
        "accuracy_knn = accuracy_score(y_test, y_pred_knn)\n",
        "report_knn = classification_report(y_test, y_pred_knn)\n",
        "conf_matrix_knn = confusion_matrix(y_test, y_pred_knn)\n",
        "\n",
        "print(f'KNN Accuracy: {accuracy_knn:.4f}')\n",
        "print('KNN Classification Report:')\n",
        "print(report_knn)\n",
        "print('KNN Confusion Matrix:')\n",
        "conf_matrix_knn"
      ],
      "metadata": {
        "id": "UHTHxQ06p7FQ"
      },
      "execution_count": null,
      "outputs": []
    },
    {
      "cell_type": "code",
      "source": [
        "# Confusion matrix for KNN\n",
        "plt.figure(figsize=(8, 6))\n",
        "sns.heatmap(conf_matrix_knn, annot=True, fmt='d', cmap='Blues', xticklabels=['No (0)', 'Yes (1)'], yticklabels=['No (0)', 'Yes (1)'])\n",
        "plt.xlabel('Predicted Label')\n",
        "plt.ylabel('True Label')\n",
        "plt.title('Confusion Matrix')\n",
        "plt.show()"
      ],
      "metadata": {
        "id": "g-TA6vKl6PTv"
      },
      "execution_count": null,
      "outputs": []
    },
    {
      "cell_type": "code",
      "source": [
        "# Comparison of  Models\n",
        "\n",
        "models = ['XGBoost', 'Random Forest', 'KNN']\n",
        "accuracies = [accuracy, accuracy_rf, accuracy_knn]\n",
        "\n",
        "plt.figure(figsize=(8, 6))\n",
        "ax = sns.barplot(x=models, y=accuracies, palette='viridis')\n",
        "plt.ylabel('Accuracy')\n",
        "plt.title('Model Comparison by Accuracy')\n",
        "# Accuracy is between 0 and 1\n",
        "plt.ylim(0, 1)\n",
        "\n",
        "# Adding accuracy values on top of the bars\n",
        "for container in ax.containers:\n",
        "    ax.bar_label(container, fmt='%.4f')\n",
        "\n",
        "plt.show()"
      ],
      "metadata": {
        "id": "IRe9aG056ie-"
      },
      "execution_count": null,
      "outputs": []
    }
  ]
}